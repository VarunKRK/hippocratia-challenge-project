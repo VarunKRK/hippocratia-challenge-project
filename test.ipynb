{
 "cells": [
  {
   "cell_type": "code",
   "execution_count": 4,
   "metadata": {
    "collapsed": true
   },
   "outputs": [
    {
     "data": {
      "text/plain": "0      1\n1      1\n2      1\n3      1\n4      1\n      ..\n298    0\n299    0\n300    0\n301    0\n302    0\nName: output, Length: 303, dtype: int64"
     },
     "execution_count": 4,
     "metadata": {},
     "output_type": "execute_result"
    }
   ],
   "source": [
    "import pandas as pd\n",
    "import numpy as np\n",
    "\n",
    "heart_df = pd.read_csv('data/heart.csv')\n",
    "\n",
    "x = heart_df.iloc[:, :-1]\n",
    "y = heart_df.iloc[:, -1]"
   ]
  },
  {
   "cell_type": "code",
   "execution_count": 7,
   "outputs": [
    {
     "data": {
      "text/plain": "<pandas.io.formats.style.Styler at 0x2ef1afe4f10>",
      "text/html": "<style  type=\"text/css\" >\n#T_dcc88_row0_col1{\n            width:  10em;\n             height:  80%;\n            background:  linear-gradient(90deg,#5fba7d 86.9%, transparent 86.9%);\n        }#T_dcc88_row0_col2{\n            width:  10em;\n             height:  80%;\n            background:  linear-gradient(90deg,#5fba7d 85.9%, transparent 85.9%);\n        }#T_dcc88_row1_col1{\n            width:  10em;\n             height:  80%;\n            background:  linear-gradient(90deg,#5fba7d 85.2%, transparent 85.2%);\n        }#T_dcc88_row1_col2{\n            width:  10em;\n             height:  80%;\n            background:  linear-gradient(90deg,#5fba7d 84.5%, transparent 84.5%);\n        }#T_dcc88_row2_col1{\n            width:  10em;\n             height:  80%;\n            background:  linear-gradient(90deg,#5fba7d 83.6%, transparent 83.6%);\n        }#T_dcc88_row2_col2{\n            width:  10em;\n             height:  80%;\n            background:  linear-gradient(90deg,#5fba7d 83.0%, transparent 83.0%);\n        }#T_dcc88_row3_col1{\n            width:  10em;\n             height:  80%;\n            background:  linear-gradient(90deg,#5fba7d 82.0%, transparent 82.0%);\n        }#T_dcc88_row3_col2{\n            width:  10em;\n             height:  80%;\n            background:  linear-gradient(90deg,#5fba7d 81.5%, transparent 81.5%);\n        }#T_dcc88_row4_col1{\n            width:  10em;\n             height:  80%;\n            background:  linear-gradient(90deg,#5fba7d 75.4%, transparent 75.4%);\n        }#T_dcc88_row4_col2{\n            width:  10em;\n             height:  80%;\n            background:  linear-gradient(90deg,#5fba7d 75.3%, transparent 75.3%);\n        }</style><table id=\"T_dcc88_\" ><thead>    <tr>        <th class=\"blank level0\" ></th>        <th class=\"col_heading level0 col0\" >Model</th>        <th class=\"col_heading level0 col1\" >Accuracy</th>        <th class=\"col_heading level0 col2\" >Bal Acc.</th>        <th class=\"col_heading level0 col3\" >Time</th>    </tr></thead><tbody>\n                <tr>\n                        <th id=\"T_dcc88_level0_row0\" class=\"row_heading level0 row0\" >1</th>\n                        <td id=\"T_dcc88_row0_col0\" class=\"data row0 col0\" >SVM</td>\n                        <td id=\"T_dcc88_row0_col1\" class=\"data row0 col1\" >86.885246</td>\n                        <td id=\"T_dcc88_row0_col2\" class=\"data row0 col2\" >85.947712</td>\n                        <td id=\"T_dcc88_row0_col3\" class=\"data row0 col3\" >0.002999</td>\n            </tr>\n            <tr>\n                        <th id=\"T_dcc88_level0_row1\" class=\"row_heading level0 row1\" >2</th>\n                        <td id=\"T_dcc88_row1_col0\" class=\"data row1 col0\" >Logistic Regression</td>\n                        <td id=\"T_dcc88_row1_col1\" class=\"data row1 col1\" >85.245902</td>\n                        <td id=\"T_dcc88_row1_col2\" class=\"data row1 col2\" >84.477124</td>\n                        <td id=\"T_dcc88_row1_col3\" class=\"data row1 col3\" >0.002000</td>\n            </tr>\n            <tr>\n                        <th id=\"T_dcc88_level0_row2\" class=\"row_heading level0 row2\" >3</th>\n                        <td id=\"T_dcc88_row2_col0\" class=\"data row2 col0\" >Skl GBM</td>\n                        <td id=\"T_dcc88_row2_col1\" class=\"data row2 col1\" >83.606557</td>\n                        <td id=\"T_dcc88_row2_col2\" class=\"data row2 col2\" >83.006536</td>\n                        <td id=\"T_dcc88_row2_col3\" class=\"data row2 col3\" >0.049010</td>\n            </tr>\n            <tr>\n                        <th id=\"T_dcc88_level0_row3\" class=\"row_heading level0 row3\" >4</th>\n                        <td id=\"T_dcc88_row3_col0\" class=\"data row3 col0\" >Random Forest</td>\n                        <td id=\"T_dcc88_row3_col1\" class=\"data row3 col1\" >81.967213</td>\n                        <td id=\"T_dcc88_row3_col2\" class=\"data row3 col2\" >81.535948</td>\n                        <td id=\"T_dcc88_row3_col3\" class=\"data row3 col3\" >0.090918</td>\n            </tr>\n            <tr>\n                        <th id=\"T_dcc88_level0_row4\" class=\"row_heading level0 row4\" >5</th>\n                        <td id=\"T_dcc88_row4_col0\" class=\"data row4 col0\" >Decision Tree</td>\n                        <td id=\"T_dcc88_row4_col1\" class=\"data row4 col1\" >75.409836</td>\n                        <td id=\"T_dcc88_row4_col2\" class=\"data row4 col2\" >75.272331</td>\n                        <td id=\"T_dcc88_row4_col3\" class=\"data row4 col3\" >0.001000</td>\n            </tr>\n    </tbody></table>"
     },
     "execution_count": 7,
     "metadata": {},
     "output_type": "execute_result"
    }
   ],
   "source": [
    "import time\n",
    "from sklearn import metrics\n",
    "from sklearn.model_selection import train_test_split\n",
    "from sklearn.preprocessing import StandardScaler\n",
    "from sklearn.linear_model import LogisticRegression\n",
    "from sklearn.svm import SVC\n",
    "from sklearn.tree import DecisionTreeClassifier\n",
    "from sklearn.ensemble import RandomForestClassifier\n",
    "from sklearn.ensemble import GradientBoostingClassifier\n",
    "\n",
    "x_train, x_test, y_train, y_test = train_test_split(x, y, test_size=0.2, random_state=0)\n",
    "\n",
    "x_train = StandardScaler().fit_transform(x_train)\n",
    "x_test = StandardScaler().fit_transform(x_test)\n",
    "\n",
    "results = pd.DataFrame({'Model': [], 'Accuracy': [], 'Bal Acc.': [], 'Time': []})\n",
    "\n",
    "classifiers = {\n",
    "    \"Decision Tree\": DecisionTreeClassifier(),\n",
    "    \"Random Forest\": RandomForestClassifier(n_estimators=100),\n",
    "    \"Skl GBM\": GradientBoostingClassifier(n_estimators=100),\n",
    "    \"Logistic Regression\": LogisticRegression(),\n",
    "    \"SVM\": SVC()\n",
    "}\n",
    "\n",
    "for model_name, model in classifiers.items():\n",
    "    start_time = time.time()\n",
    "    model.fit(x_train, y_train)\n",
    "    pred = model.predict(x_test)\n",
    "\n",
    "    total_time = time.time() - start_time\n",
    "\n",
    "    results = results.append({\"Model\":    model_name,\n",
    "                              \"Accuracy\": metrics.accuracy_score(y_test, pred)*100,\n",
    "                              \"Bal Acc.\": metrics.balanced_accuracy_score(y_test, pred)*100,\n",
    "                              \"Time\":     total_time},\n",
    "                              ignore_index=True)\n",
    "\n",
    "results_ord = results.sort_values(by=['Accuracy'], ascending=False, ignore_index=True)\n",
    "results_ord.index += 1\n",
    "results_ord.style.bar(subset=['Accuracy', 'Bal Acc.'], vmin=0, vmax=100, color='#5fba7d')"
   ],
   "metadata": {
    "collapsed": false,
    "pycharm": {
     "name": "#%%\n"
    }
   }
  },
  {
   "cell_type": "code",
   "execution_count": 8,
   "outputs": [
    {
     "data": {
      "text/plain": "<AxesSubplot:>"
     },
     "execution_count": 8,
     "metadata": {},
     "output_type": "execute_result"
    },
    {
     "data": {
      "text/plain": "<Figure size 432x288 with 1 Axes>",
      "image/png": "[encoded data removed]"
     },
     "metadata": {
      "needs_background": "light"
     },
     "output_type": "display_data"
    }
   ],
   "source": [
    "import matplotlib.pyplot as plt\n",
    "x.corr()['cp'].sort_values().plot.barh()\n",
    "num_columns = ['trtbps', 'age', 'chol', 'thalach']\n"
   ],
   "metadata": {
    "collapsed": false,
    "pycharm": {
     "name": "#%%\n"
    }
   }
  }
 ],
 "metadata": {
  "kernelspec": {
   "display_name": "Python 3",
   "language": "python",
   "name": "python3"
  },
  "language_info": {
   "codemirror_mode": {
    "name": "ipython",
    "version": 2
   },
   "file_extension": ".py",
   "mimetype": "text/x-python",
   "name": "python",
   "nbconvert_exporter": "python",
   "pygments_lexer": "ipython2",
   "version": "2.7.6"
  }
 },
 "nbformat": 4,
 "nbformat_minor": 0
}